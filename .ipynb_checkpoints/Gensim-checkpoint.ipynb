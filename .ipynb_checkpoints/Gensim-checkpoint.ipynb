{
 "cells": [
  {
   "cell_type": "code",
   "execution_count": 1,
   "metadata": {},
   "outputs": [
    {
     "name": "stderr",
     "output_type": "stream",
     "text": [
      "C:\\Users\\carlo\\Anaconda3\\lib\\site-packages\\gensim\\utils.py:1197: UserWarning: detected Windows; aliasing chunkize to chunkize_serial\n",
      "  warnings.warn(\"detected Windows; aliasing chunkize to chunkize_serial\")\n"
     ]
    }
   ],
   "source": [
    "from gensim.parsing.porter import PorterStemmer\n",
    "from gensim.parsing.preprocessing import remove_stopwords\n",
    "from gensim import corpora\n",
    "from gensim import models\n",
    "from gensim import similarities\n",
    "from smart_open import smart_open\n",
    "import xml.etree.ElementTree as ET\n",
    "import math\n",
    "p = PorterStemmer()\n"
   ]
  },
  {
   "cell_type": "markdown",
   "metadata": {},
   "source": [
    "## Procesamiento de el documento"
   ]
  },
  {
   "cell_type": "code",
   "execution_count": 2,
   "metadata": {},
   "outputs": [],
   "source": [
    "def process(text):\n",
    "    doc_nor= text.lower()\n",
    "    doc_sw = remove_stopwords(doc_nor)\n",
    "    doc_stem = p.stem_sentence(doc_sw)\n",
    "    return doc_stem.split()"
   ]
  },
  {
   "cell_type": "markdown",
   "metadata": {},
   "source": [
    "## Lista de Documentos Procesados"
   ]
  },
  {
   "cell_type": "code",
   "execution_count": 3,
   "metadata": {
    "scrolled": true
   },
   "outputs": [
    {
     "name": "stdout",
     "output_type": "stream",
     "text": [
      "[['william', 'beaumont', 'human', 'digest'], ['selma', 'lagerlöf', 'wonder', 'adventur', 'niel', 'holgersson'], ['ferdinand', 'lessep', 'suez', 'canal'], ['walt', 'disney’', '‘steamboat', 'willie’', 'rise', 'mickei', 'mous'], ['eugen', 'wigner', 'structur', 'atom', 'nucleu'], ['eugenio', 'beltrami', 'non-euclidian', 'geometri'], ['bernard', 'mandevil', 'fabl', 'bee'], ['leo', 'baekeland', 'begin', 'plastic', 'ag'], ['dorothea', 'erxleben', '–', 'germany’', 'femal', 'medic', 'doctor'], ['sir', 'jame', 'young', 'simpson', 'chloroform'], ['loui', 'antoin', 'bougainvil', 'voyag', 'world'], ['robert', 'morison', 'classif', 'plant'], ['florenc', 'sabin', '–', 'prepar', 'ground', 'women', 'medic', 'scienc'], ['hermann', '‘klecks’', 'rorschach', 'eponym', 'test'], ['william', 'stukelei', 'mysteri', 'stoneheng'], ['adolph', 'sax', 'saxophon'], ['edvard', 'munch', 'munch', 'affair'], ['spyridon', 'marinato', 'discoveri', 'akrotiri'], ['daniel', 'rutherford', 'isol', 'nitrogen'], ['alexand', 'lippisch', 'delta', 'wing'], ['oskar', 'barnack', '–', 'father', '35mm', 'photographi'], ['adolf', 'von', 'baeyer', 'color', 'blue'], ['han', 'grade', '–', 'german', 'aviat', 'pioneer'], ['othniel', 'charl', 'marsh', 'great', 'bone', 'war'], ['constantin', 'battl', 'milvian', 'bridg'], ['jean-rondolph', 'perronet', 'bridg', 'pari'], ['giovanni', 'maria', 'lancisi', 'medic', 'discoveri'], ['william', 'higinbotham', 'tenni'], ['charl', 'joseph', 'minard', 'art', 'infograph'], ['felix', 'bloch', 'nuclear', 'magnet', 'reson', 'method'], ['planetari', 'tabl', 'erasmu', 'reinhold'], ['samuel', 'w.', 'alderson', 'crash', 'test', 'dummi'], ['vannoccio', 'biringuccio', 'art', 'metalwork'], ['eudoxu', 'method', 'exhaust'], ['nichola', 'culpep', 'complet', 'herb', 'england'], ['socrat', 'socrat', 'method'], ['albrecht', 'von', 'haller', '–', 'father', 'modern', 'physiolog'], ['evangelista', 'torricelli', 'baromet'], ['pythagora', 'eponym', 'theorem'], ['peter', 'barlow', 'barlow', 'lens'], ['ascanio', 'sobrero', 'power', 'nitroglycerin'], ['heinrich', 'olber', 'olbers’', 'paradox'], ['henri', 'cavendish', 'weight', 'earth'], ['karl', 'schwarzschild', 'event', 'horizon'], ['thale', 'miletu', '–', '(possibly)', 'father', 'greek', 'mathemat'], ['richard', 'leuckart', 'tapeworm'], ['richard', 'dedekind', 'real', 'number'], ['robert', 'goddard', '–', 'man', 'usher', 'space', 'ag'], ['jame', 'lind', 'cure', 'scurvi'], ['sir', 'patrick', 'manson', '–', 'father', 'tropic', 'medicin'], ['willi', 'lei', '–', 'founder', 'german', 'rocket', 'societi'], ['unfortun', 'invent', 'charl', 'cro'], ['étienn', 'condillac', 'import', 'languag', 'logic', 'reason'], ['fritz', 'kahn', 'mensch', 'maschin'], ['william', 'f.', 'friedman', 'art', 'cryptolog'], ['travel', 'william', 'dampier'], ['loui', 'henri', 'sullivan', '–', '‘father’', 'skyscap'], ['ernst', 'curtiu', 'excav', 'olympia'], ['sergei', 'winogradski', 'scienc', 'bacteriolog'], ['sir', 'bernard', 'lovel', 'radioastronomi'], ['fred', 'whippl', 'dirti', 'snowbal'], ['werner', 'forssmann', 'danger', 'self', 'experi', 'cardiac', 'catheter'], ['antoin', 'cournot', 'mathemat', 'theori', 'econom'], ['man', 'rai', 'art', 'photogram'], ['lee', 'forest', 'audion'], ['elizabeth', 'montagu', 'bluestock', 'societi'], ['plini', 'elder', 'destruct', 'pompeii'], ['paul', 'nipkow', 'pictur', 'scan', 'technolog'], ['william', 'murdock', '‘enlights’', '19th', 'centuri'], ['jön', 'jacob', 'berzeliu', '–', 'founder', 'modern', 'chemistri'], ['philo', 'taylor', 'farnsworth', 'electron', 'televis'], ['brook', 'taylor', '–', 'forerunn', 'differenti', 'calculu'], ['hazel', 'bishop', 'long', 'last', 'lipstick'], ['pierr', 'mechain', 'meridian', 'survei', 'expedit'], ['loui', 'brogli', 'wave', 'natur', 'matter'], ['john', 'logi', 'baird', 'televis'], ['art', 'suspens', '–', 'alfr', 'hitchcock’', 'cinema'], ['meet', 'sue,', 'dinosaur'], ['richard', 'mead', 'understand', 'transmiss', 'diseas'], ['abu', 'ma’shar', 'al-balkhi', '–', 'princ', 'astrolog'], ['ernest', 'lawrenc', 'cyclotron'], ['victor', 'franz', 'hess', 'cosmic', 'radiat'], ['girolamo', 'fracastoro’', 'germ', 'theori'], ['joseph', 'carei', 'merrick', '–', 'elef', 'man'], ['nicolas-jacqu', 'conté', 'pencil'], ['richard', 'arkwright', '–', 'father', 'industri', 'revolut'], ['john', 'tyndal', 'physic', 'air'], ['maria', 'mitchel', 'comet'], ['stephani', 'kwolek', 'bullet-proof', 'vest'], ['mariu', 'battl', 'raudin', 'plain'], ['dorothi', 'hodgkin', 'structur', 'penicilin'], ['karl', 'popper', 'philosophi', 'scienc'], ['rosalind', 'franklin', 'beauti', 'dna', 'structur'], ['plai', 'georg', 'bernard', 'shaw'], ['thoma', 'love', 'beetl'], ['joseph', 'nicollet', 'upper', 'mississippi', 'river'], ['isaac', 'singer', 'sew', 'machin'], ['friedrich', 'bessel', 'distanc', 'star'], ['jean', 'picard', 'love', 'accuraci'], ['sir', 'john', 'reith', 'bbc'], ['dancer', 'edgar', 'dega'], ['william', 'makepeac', 'thackeray’', 'deft', 'skewer', 'human', 'foibl'], ['world', 'lyonel', 'feining'], ['pavel', 'cherenkov', 'blue', 'light'], ['convers', 'eloqu', 'madam', 'staël'], ['august', 'kekulé', 'carbon', 'ring', 'structur'], ['pablo', 'picasso’', 'guernica'], ['samuel', 'goudsmit', 'electron', 'spin'], ['camil', 'pissaro', 'impressionist', 'art', 'movement'], ['john', 'wheeler', 'golden', 'ag', 'gener', 'rel'], ['alfr', 'binet', 'intellig', 'test'], ['rudolf', 'wolf', 'sunspot'], ['albert', 'von', 'kölliker', 'origin', 'embriolog'], ['a.', 'e.', 'douglass', 'dendrochronolog'], ['rube', 'goldberg’', 'complic', 'machin'], ['ottmar', 'mergenthal', '–', 'second', 'gutenberg'], ['han', 'beth', 'energi', 'star'], ['ignaz', 'semmelwei', 'import', 'wash', 'hand', 'doctor'], ['adolf', 'furtwängler', 'photograph', 'archeolog'], ['rembert', 'dodoen', 'love', 'botan', 'scienc'], ['maria', 'goeppert', 'mayer', 'nuclear', 'shell', 'model'], ['sophi', 'germain', 'chladni', 'experi'], ['lyman', 'spitzer', 'space', 'telescop'], ['hermann', 'oberth’', 'dream', 'space', 'travel'], ['martin', 'perl', 'tau'], ['deodat', 'dolomieu', 'love', 'rock'], ['discoveri', 'charon'], ['franz', 'kruckenberg’', 'schienenzeppelin'], ['gerald', 'hawkin', 'secret', 'stoneheng'], ['ernst', 'bori', 'chain', 'research', 'antibiot'], ['jürgen', 'haberma', 'commun', 'ration'], ['sir', 'franci', 'drake’', 'discoveri', 'nova', 'albion'], ['barbara', 'mcclintock', 'cytogenet'], ['niemand', 'hat', 'die', 'absicht', 'ein', 'mauer', 'zu', 'bauen!'], ['charl', 'augustin', 'coulomb', 'electrostat', 'forc'], ['william', 'butler', 'yeat', 'modern', 'english', 'literatur'], ['diari', 'ann', 'frank'], ['hayden', 'geolog', 'survei', 'yellowston', 'nation', 'park'], ['life', 'legend', 'frederick', 'barbarossa'], ['johann', 'gottfri', 'gall', 'planet', 'neptun'], ['vike', 'raid', 'abbei', 'lindisfarn'], ['robert', 'mulliken', 'molecular', 'orbit'], ['thoma', 'mann', 'mann', 'famili'], ['bose-einstein', 'condens', 'bring', 'quantum', 'theori', 'macroscop', 'scale'], ['pulitz', 'prize'], ['american', 'walk', 'space', '–', 'edward', 'white'], ['novel', 'thoma', 'hardi'], ['carnot', 'thermodynam'], ['poetri', 'walt', 'whitman'], ['elli', 'beinhorn', 'love', 'aviat'], ['johann', 'heinrich', 'von', 'mädler', 'accur', 'map', 'moon'], ['thoma', 'moor', '–', 'ireland’', 'nation', 'bard'], ['niccoló', 'paganini', '–', 'devil’', 'violinist'], ['august', 'von', 'parseval`', 'airship'], ['space', 'station', 'skylab'], ['aviatrix', 'ami', 'johnson', 'flight', 'australia'], ['legend', 'bonni', 'clyde'], ['hergé', 'adventur', 'tintin'], ['marcel', 'breuer', '–', 'master', 'modern'], ['abraham', 'orteliu', 'theatrum', 'orbi', 'terrarum'], ['alcuin', 'york', 'carolingian', 'renaiss'], ['beaumarchai', \"figaro'\", 'wed'], ['myseri', 'voynich', 'manuscript'], ['phantast', 'travel', 'adelbert', 'von', 'chamisso'], ['franci', 'baili', 'baili', 'bead'], ['airplan', 'claud', 'dornier'], ['igor', 'sikorski', 'helicopt'], ['florenc', 'nightingal', '–', 'ladi', 'lamp'], ['print', 'book'], ['caspar', 'mong', 'geometri'], ['thoma', 'blood', 'crown', 'jewel', 'england'], ['mari', 'jewess', 'origin', 'chemistri'], ['carl', 'hagenbeck', 'modern', 'zoo'], ['adolph', 'von', 'knigg', 'human', 'relat'], ['press', 'button', 'rest', '–', 'georg', 'eastman', 'revolution', 'photographi'], ['pope', 'divid', 'new', 'world', 'spain', 'rest', 'world'], ['spam', 'rule', 'internet'], ['johann', 'carolu', 'newspap'], ['orson', 'welles’', 'citizen', 'kane'], ['j.', 'j.', 'thompson', 'electron'], ['henri', 'poincaré', '–', 'universalist', 'mathemat'], ['denni', 'tito,', 'space', 'tourist'], ['edward', 'whymper', 'matterhorn'], ['john', 'jame', 'audubon’', 'bird', 'america'], ['claud', 'joseph', 'rouget', 'lisl', 'marseillais'], ['lauren', 'hammond', 'hammond', 'organ'], ['german', 'reinheitsgebot'], ['encor', 'moment', '–', 'life', 'madam', 'du', 'barri'], ['sir', 'georg', 'stoke', 'fluid', 'dynam'], ['gideon', 'mantel', 'iguanodon'], ['john', 'lindlei', 'love', 'plant'], ['john', 'mccarthi', 'rais', 'artifici', 'intellig'], ['e.f.', 'codd', 'relat', 'databas', 'model'], ['marvin', 'minski', 'artifici', 'neural', 'network'], ['dan', 'bricklin', 'visicalc'], ['antikythera', 'mechan', '–', 'ancient', 'analog'], ['rudi', 'rucker', '–', 'infin', 'mind'], ['j.c.r.', 'licklid', 'interact', 'comput'], ['birth', 'internet'], ['lectur', 'randi', 'pausch'], ['fortran', '–', 'program', 'languag', 'numer', 'calcul'], ['john', 'atanasoff', 'electron', 'digit'], ['gnu’', 'unix'], ['space', 'invaders!'], ['vannevar', 'bush', 'memex'], ['amus', 'death', 'neil', 'postman'], ['nikolau', 'wirth', 'pascal'], ['eniac', '–', 'introduc', 'public'], ['donald', 'knuth', 'art', 'program'], ['joseph', 'weizenbaum', 'famou', 'eliza'], ['konrad', 'zuse', '–', 'inventor'], ['georg', 'bool', '–', 'founder', 'modern', 'logic'], ['doug', 'engelbart', 'mous'], ['intel', '4004', '–', 'world’', 'microprocessor'], ['charl', 'babbag', '–', 'father', 'hate', 'street', 'music'], ['denni', 'ritchi', '–', 'design', 'unix', 'c'], ['“don’t', 'evil”', '–', 'googl', 'celebr', '14th', 'birthdai'], ['happi', 'birthdai', 'linux!'], ['bug', 'wasn’t', 'bug', '–', 'pioneer', 'grace', 'murrai', 'hopper'], [\"it'\", 'comput', '-', 'thank', 'alonzo', 'church'], ['let', 'calcul', '–', 'univers', 'academ', 'gottfri', 'wilhelm', 'leibniz'], ['churchill’', 'best', 'hors', 'barn', '–', 'alan', 'turing,', 'codebreak', 'ai', 'pioneer'], ['well,', 'didn’t', 'know', 'hard', '–', 'happi', 'birthdai', 'ivan', 'sutherland'], ['speak', 'polish…', 'mayb', 'revers', 'polish?'], ['claud', 'shannon', '–', 'father', 'inform', 'theori'], ['nicola', 'steno', 'principl', 'modern', 'geologi'], ['alfr', 'tarski', 'undefin', 'truth'], ['friedrich', 'schiller', '‘the', 'robbers’'], ['johann', 'schöner', 'globe'], ['lewi', 'terman', 'intellig', 'quotient'], ['thoma', 'augustu', 'watson', '–', 'recipi', 'phone'], ['gaspard', 'bauhin', 'classif', 'plant'], ['steel', 'sir', 'henri', 'bessem'], ['simon', 'mariu', 'astronom', 'discoveri'], ['pierr', 'gassendi', 'trial', 'reconcil', 'epicurean', 'atom', 'christian'], ['john', 'fitch', 'steam', 'boat'], ['andrija', 'mohorovičić', 'mohorovičić', 'discontinu'], ['oskar', 'morgenstern', 'game', 'theori'], ['fabian', 'von', 'bellingshausen', 'discoveri', 'antarctica'], ['henri', 'brigg', 'popular', 'logarithm'], ['thoma', 'willi', 'royal', 'societi'], ['ernst', 'kummer', 'achiev', 'mathemat'], ['johann', 'heveliu', 'selenographia'], ['euclid', '–', 'father', 'geometri'], ['charl', 'green', 'record', 'balloon', 'flight'], ['dmitri', 'mendeleev', 'period', 'tabl', 'element'], ['charl', 'lindbergh', 'spirit', 'st.', 'loui'], ['joseph', 'priestlei', 'discoveri', 'oxygen'], ['alfr', 'adler', 'individu', 'psycholog'], ['erich', 'von', 'drygalski’', 'antarct', 'expedit'], ['leo', 'szilard', 'atom', 'bomb'], ['lejeun', 'dirichlet', 'mathemat', 'function'], ['fritz', 'zwicki', 'dark', 'matter'], ['henri', 'steinwai', 'grand', 'piano'], ['georg', 'joachim', 'rheticus’', 'achiev', 'astronomi'], ['frederick', 'eugen', 'iv', 'halfton', 'print', 'process'], ['octav', 'chanut', '–', 'father', 'aviat'], ['robert', 'e.', 'peary’', 'arctic', 'expedit'], ['john', 'mercer', 'cotton', 'merceris'], ['frank', 'p.', 'ramsei', 'ramsei', 'theori'], ['andrea', 'cesalpino', 'classif', 'plant'], ['nikolai', 'lobachevski', '–', 'copernicu', 'geometri'], ['camil', 'flammarion', 'balanc', 'act', 'popular', 'scienc', 'scienc', 'fiction'], ['giovanni', 'battista', 'morgagni', 'scienc', 'anatomi'], ['samuel', 'pierpont', 'langlei', 'aviat', 'work'], ['life', 'like', 'garden', '–', 'leonard', 'nimoi'], ['robert', 'corneliu', 'shoot', 'selfi'], ['walter', 'bruch', 'pal', 'color', 'televis'], ['jeremia', 'richter', 'law', 'definit', 'proport'], ['john', 'murrai', 'oceanographi'], ['georg', 'gamow', 'fundament', 'view', 'foundat', 'scienc'], ['philosoph', 'transact', 'royal', 'societi'], ['william', 'oughtr', 'slide', 'rule'], ['henri', 'draper', 'passion', 'astronomi'], ['john', 'fothergil', '–', 'physician', 'garden'], ['howard', 'h.', 'aiken', 'harvard', 'mark'], ['richard', 'e.', 'byrd,', 'jr.', '–', 'aviat', 'polar', 'explor'], ['vladimir', 'vernadski', 'biospher'], ['joseph', 'priestlei', '–', 'educ', 'historian'], ['frederick', 'rein', 'neutrino'], ['life', 'work', 'philipp', 'la', 'hire'], ['ulugh', 'beg', '–', 'astronom'], ['georg', 'friedrich', 'philipp', 'von', 'hardenberg', 'aka', 'novali'], ['aristarchu', 'samo', 'heliocentr'], ['hippolyt', 'fizeau', 'speed', 'light'], ['jame', 'dewar', 'liquefact', 'gase'], ['ötzi', 'world', 'famou'], ['legendre’', 'element', 'geometri'], ['john', 'goodrick', 'variabl', 'star', 'beta', 'persei'], ['bernard', 'siegfri', 'albinu', 'anatom', 'work'], ['august', 'wilhelm', 'schlegel', 'shakespear', 'translat'], ['john', 'dalton', 'atom', 'theori'], ['work', 'heinrich', 'mann'], ['vision', 'emanuel', 'swedenborg'], ['jethro', 'tull', 'agricultur', 'revolut'], ['psychologist', 'studi', 'mankind', 'histor', 'compar', 'standpoint', '–', 'moritz', 'lazaru'], ['sydnei', 'harbour', 'bridg'], ['b.f.', 'skinner', 'radic', 'behavior'], ['watch', 'daniel', 'quar'], ['erich', 'fromm', 'frankfurt', 'school', 'critic', 'theori'], ['vanguard', '1', '–', 'solar', 'power', 'satellit'], ['expedit', 'john', 'weslei', 'powel'], ['seymour', 'r.', 'crai', '–', 'father', 'supercomput'], ['joseph', 'proust', 'law', 'constant', 'composit'], ['abraham', 'werner', 'school', 'neptun'], ['georg', 'simmel', '–', 'gener', 'sociologist'], ['carl', 'jacobi', 'ellipt', 'function'], ['paul', 'ehrlich', 'chemotherapi'], ['john', 'snow', 'work', 'cholera'], ['william', 'budd', 'infecti', 'diseas'], ['el', 'escori', '–', 'world’', 'largest', 'renaiss', 'build'], ['harvei', 'fletcher', '–', 'father', 'stereophon', 'sound'], ['jacqu', 'perth', 'european', 'archaeolog'], ['pavlov', 'condit', 'reflex'], ['spacecraft', 'land', 'moon', '–', 'luna', '2'], ['passion', 'life', 'charlott', 'brontë'], ['royal', 'botanist', 'charl', 'plumier'], ['august', 'wilhelm', 'iffland', 'iffland', 'ring'], ['natur', 'histori', 'museum', 'london'], ['william', 'wilson', 'german', 'railwai'], ['aviat', 'pioneer', 'harriet', 'quimbi'], ['samuel', 'johnson', 'famou', 'dictionari'], ['kinetoscop', 'edison’', 'wrong', 'wai', 'invent', 'cinema'], ['catherin', 'medici', 'st.', 'bartholomew’', 'dai'], ['robert', 'delaunai', 'orphism'], ['vom', 'scienc', 'slam', 'zur', 'bestsellerlist'], ['jame', 'parkinson', 'parkinson’', 'diseas'], ['juan', 'la', 'cierva', 'autogiro'], ['squir', 'whippl', '–', 'father', 'iron', 'bridg'], ['william', 'playfair', 'begin', 'infograph'], ['juan', 'bautista', 'anza', 'rout', 'san', 'francisco', 'bai']]\n"
     ]
    }
   ],
   "source": [
    "docDict = []\n",
    "for index in range(1,332):\n",
    "    number = \"\"\n",
    "    if math.floor(index/10) == 0:\n",
    "        number = \"00\"+str(index)\n",
    "    else:\n",
    "        if math.floor(index/100) == 0:\n",
    "            number = \"0\"+str(index)\n",
    "        else:\n",
    "            if math.floor(index/1000) == 0:\n",
    "                number = str(index)\n",
    "    root = ET.parse('docs-raw-texts/wes2015.d'+number+'.naf').getroot()\n",
    "    title = root.find('nafHeader').find('fileDesc').attrib['title']\n",
    "    content = root.find('raw').text\n",
    "    docDict.append(process(title))\n",
    "print(docDict)"
   ]
  },
  {
   "cell_type": "markdown",
   "metadata": {},
   "source": [
    "## Generar Diccionario"
   ]
  },
  {
   "cell_type": "code",
   "execution_count": 4,
   "metadata": {},
   "outputs": [
    {
     "name": "stdout",
     "output_type": "stream",
     "text": [
      "Dictionary(1078 unique tokens: ['beaumont', 'digest', 'human', 'william', 'adventur']...)\n"
     ]
    },
    {
     "name": "stderr",
     "output_type": "stream",
     "text": [
      "C:\\Users\\carlo\\Anaconda3\\lib\\site-packages\\smart_open\\smart_open_lib.py:398: UserWarning: This function is deprecated, use smart_open.open instead. See the migration notes for details: https://github.com/RaRe-Technologies/smart_open/blob/master/README.rst#migrating-to-the-new-open-function\n",
      "  'See the migration notes for details: %s' % _MIGRATION_NOTES_URL\n"
     ]
    }
   ],
   "source": [
    "dictionary = corpora.Dictionary(docDict)\n",
    "dictionary.save('clase3.dict')\n",
    "print(dictionary)"
   ]
  },
  {
   "cell_type": "markdown",
   "metadata": {},
   "source": [
    "## Generar Corpus"
   ]
  },
  {
   "cell_type": "code",
   "execution_count": 5,
   "metadata": {},
   "outputs": [],
   "source": [
    "class MyCorpus(object):\n",
    "    def __iter__(self):\n",
    "        for index in range(1,332):\n",
    "            number = \"\"\n",
    "            if math.floor(index/10) == 0:\n",
    "                number = \"00\"+str(index)\n",
    "            else:\n",
    "                if math.floor(index/100) == 0:\n",
    "                    number = \"0\"+str(index)\n",
    "                else:\n",
    "                    if math.floor(index/1000) == 0:\n",
    "                        number = str(index)\n",
    "            root = ET.parse('docs-raw-texts/wes2015.d'+number+'.naf').getroot()\n",
    "            title = root.find('nafHeader').find('fileDesc').attrib['title']\n",
    "            content = root.find('raw').text\n",
    "            yield dictionary.doc2bow(process(title))\n",
    "\n",
    "corpus_memory_friendly = MyCorpus()#Todos mis documentos ahora estan representados como una bolsa de palabras\n",
    "#Almaceno mi corpus\n",
    "corpora.MmCorpus.serialize('corpus.mm', corpus_memory_friendly)  "
   ]
  },
  {
   "cell_type": "markdown",
   "metadata": {},
   "source": [
    "## Cargar el Corpus"
   ]
  },
  {
   "cell_type": "code",
   "execution_count": 6,
   "metadata": {},
   "outputs": [
    {
     "name": "stdout",
     "output_type": "stream",
     "text": [
      "MmCorpus(331 documents, 1078 features, 1493 non-zero entries)\n",
      "[(0, 1.0), (1, 1.0), (2, 1.0), (3, 1.0)]\n",
      "[(4, 1.0), (5, 1.0), (6, 1.0), (7, 1.0), (8, 1.0), (9, 1.0)]\n",
      "[(10, 1.0), (11, 1.0), (12, 1.0), (13, 1.0)]\n",
      "[(14, 1.0), (15, 1.0), (16, 1.0), (17, 1.0), (18, 1.0), (19, 1.0), (20, 1.0)]\n",
      "[(21, 1.0), (22, 1.0), (23, 1.0), (24, 1.0), (25, 1.0)]\n",
      "[(26, 1.0), (27, 1.0), (28, 1.0), (29, 1.0)]\n",
      "[(30, 1.0), (31, 1.0), (32, 1.0), (33, 1.0)]\n",
      "[(34, 1.0), (35, 1.0), (36, 1.0), (37, 1.0), (38, 1.0)]\n",
      "[(39, 1.0), (40, 1.0), (41, 1.0), (42, 1.0), (43, 1.0), (44, 1.0), (45, 1.0)]\n",
      "[(46, 1.0), (47, 1.0), (48, 1.0), (49, 1.0), (50, 1.0)]\n",
      "[(51, 1.0), (52, 1.0), (53, 1.0), (54, 1.0), (55, 1.0)]\n",
      "[(56, 1.0), (57, 1.0), (58, 1.0), (59, 1.0)]\n",
      "[(44, 1.0), (45, 1.0), (60, 1.0), (61, 1.0), (62, 1.0), (63, 1.0), (64, 1.0), (65, 1.0)]\n",
      "[(66, 1.0), (67, 1.0), (68, 1.0), (69, 1.0), (70, 1.0)]\n",
      "[(3, 1.0), (71, 1.0), (72, 1.0), (73, 1.0)]\n",
      "[(74, 1.0), (75, 1.0), (76, 1.0)]\n",
      "[(77, 1.0), (78, 1.0), (79, 2.0)]\n",
      "[(80, 1.0), (81, 1.0), (82, 1.0), (83, 1.0)]\n",
      "[(84, 1.0), (85, 1.0), (86, 1.0), (87, 1.0)]\n",
      "[(88, 1.0), (89, 1.0), (90, 1.0), (91, 1.0)]\n",
      "[(45, 1.0), (92, 1.0), (93, 1.0), (94, 1.0), (95, 1.0), (96, 1.0)]\n",
      "[(97, 1.0), (98, 1.0), (99, 1.0), (100, 1.0), (101, 1.0)]\n",
      "[(45, 1.0), (102, 1.0), (103, 1.0), (104, 1.0), (105, 1.0), (106, 1.0)]\n",
      "[(107, 1.0), (108, 1.0), (109, 1.0), (110, 1.0), (111, 1.0), (112, 1.0)]\n",
      "[(113, 1.0), (114, 1.0), (115, 1.0), (116, 1.0)]\n",
      "[(114, 1.0), (117, 1.0), (118, 1.0), (119, 1.0)]\n",
      "[(44, 1.0), (81, 1.0), (120, 1.0), (121, 1.0), (122, 1.0)]\n",
      "[(3, 1.0), (123, 1.0), (124, 1.0)]\n",
      "[(108, 1.0), (125, 1.0), (126, 1.0), (127, 1.0), (128, 1.0)]\n",
      "[(129, 1.0), (130, 1.0), (131, 1.0), (132, 1.0), (133, 1.0), (134, 1.0)]\n",
      "[(135, 1.0), (136, 1.0), (137, 1.0), (138, 1.0)]\n",
      "[(69, 1.0), (139, 1.0), (140, 1.0), (141, 1.0), (142, 1.0), (143, 1.0)]\n",
      "[(125, 1.0), (144, 1.0), (145, 1.0), (146, 1.0)]\n",
      "[(132, 1.0), (147, 1.0), (148, 1.0)]\n",
      "[(149, 1.0), (150, 1.0), (151, 1.0), (152, 1.0), (153, 1.0)]\n",
      "[(132, 1.0), (154, 2.0)]\n",
      "[(45, 1.0), (94, 1.0), (101, 1.0), (155, 1.0), (156, 1.0), (157, 1.0), (158, 1.0)]\n",
      "[(159, 1.0), (160, 1.0), (161, 1.0)]\n",
      "[(66, 1.0), (162, 1.0), (163, 1.0)]\n",
      "[(164, 2.0), (165, 1.0), (166, 1.0)]\n",
      "[(167, 1.0), (168, 1.0), (169, 1.0), (170, 1.0)]\n",
      "[(171, 1.0), (172, 1.0), (173, 1.0), (174, 1.0)]\n",
      "[(175, 1.0), (176, 1.0), (177, 1.0), (178, 1.0)]\n",
      "[(179, 1.0), (180, 1.0), (181, 1.0), (182, 1.0)]\n",
      "[(45, 1.0), (94, 1.0), (183, 1.0), (184, 1.0), (185, 1.0), (186, 1.0), (187, 1.0)]\n",
      "[(188, 1.0), (189, 1.0), (190, 1.0)]\n",
      "[(189, 1.0), (191, 1.0), (192, 1.0), (193, 1.0)]\n",
      "[(34, 1.0), (45, 1.0), (59, 1.0), (194, 1.0), (195, 1.0), (196, 1.0), (197, 1.0)]\n",
      "[(47, 1.0), (198, 1.0), (199, 1.0), (200, 1.0)]\n",
      "[(45, 1.0), (49, 1.0), (94, 1.0), (201, 1.0), (202, 1.0), (203, 1.0), (204, 1.0)]\n",
      "[(45, 1.0), (103, 1.0), (205, 1.0), (206, 1.0), (207, 1.0), (208, 1.0), (209, 1.0)]\n",
      "[(108, 1.0), (210, 1.0), (211, 1.0), (212, 1.0)]\n",
      "[(213, 1.0), (214, 1.0), (215, 1.0), (216, 1.0), (217, 1.0), (218, 1.0)]\n",
      "[(219, 1.0), (220, 1.0), (221, 1.0), (222, 1.0)]\n",
      "[(3, 1.0), (125, 1.0), (223, 1.0), (224, 1.0), (225, 1.0)]\n",
      "[(3, 1.0), (226, 1.0), (227, 1.0)]\n",
      "[(45, 1.0), (53, 1.0), (177, 1.0), (228, 1.0), (229, 1.0), (230, 1.0)]\n",
      "[(231, 1.0), (232, 1.0), (233, 1.0), (234, 1.0)]\n",
      "[(64, 1.0), (235, 1.0), (236, 1.0), (237, 1.0)]\n",
      "[(31, 1.0), (49, 1.0), (238, 1.0), (239, 1.0)]\n",
      "[(240, 1.0), (241, 1.0), (242, 1.0), (243, 1.0)]\n",
      "[(244, 1.0), (245, 1.0), (246, 1.0), (247, 1.0), (248, 1.0), (249, 1.0), (250, 1.0)]\n",
      "[(51, 1.0), (185, 1.0), (251, 1.0), (252, 1.0), (253, 1.0)]\n",
      "[(125, 1.0), (195, 1.0), (254, 1.0), (255, 1.0)]\n",
      "[(256, 1.0), (257, 1.0), (258, 1.0)]\n",
      "[(208, 1.0), (259, 1.0), (260, 1.0), (261, 1.0)]\n",
      "[(262, 1.0), (263, 1.0), (264, 1.0), (265, 1.0)]\n",
      "[(266, 1.0), (267, 1.0), (268, 1.0), (269, 1.0), (270, 1.0)]\n",
      "[(3, 1.0), (271, 1.0), (272, 1.0), (273, 1.0), (274, 1.0)]\n",
      "[(45, 1.0), (157, 1.0), (205, 1.0), (275, 1.0), (276, 1.0), (277, 1.0), (278, 1.0)]\n",
      "[(279, 1.0), (280, 1.0), (281, 1.0), (282, 1.0), (283, 1.0)]\n",
      "[(45, 1.0), (282, 1.0), (284, 1.0), (285, 1.0), (286, 1.0), (287, 1.0)]\n",
      "[(288, 1.0), (289, 1.0), (290, 1.0), (291, 1.0), (292, 1.0)]\n",
      "[(293, 1.0), (294, 1.0), (295, 1.0), (296, 1.0), (297, 1.0)]\n",
      "[(53, 1.0), (298, 1.0), (299, 1.0), (300, 1.0), (301, 1.0)]\n",
      "[(283, 1.0), (302, 1.0), (303, 1.0), (304, 1.0)]\n",
      "[(45, 1.0), (125, 1.0), (305, 1.0), (306, 1.0), (307, 1.0), (308, 1.0)]\n",
      "[(309, 1.0), (310, 1.0), (311, 1.0)]\n",
      "[(189, 1.0), (312, 1.0), (313, 1.0), (314, 1.0), (315, 1.0)]\n",
      "[(45, 1.0), (316, 1.0), (317, 1.0), (318, 1.0), (319, 1.0), (320, 1.0)]\n",
      "[(321, 1.0), (322, 1.0), (323, 1.0)]\n",
      "[(324, 1.0), (325, 1.0), (326, 1.0), (327, 1.0), (328, 1.0)]\n",
      "[(253, 1.0), (329, 1.0), (330, 1.0), (331, 1.0)]\n",
      "[(45, 1.0), (127, 1.0), (195, 1.0), (332, 1.0), (333, 1.0), (334, 1.0)]\n",
      "[(335, 1.0), (336, 1.0), (337, 1.0)]\n",
      "[(45, 1.0), (94, 1.0), (189, 1.0), (338, 1.0), (339, 1.0), (340, 1.0)]\n",
      "[(303, 1.0), (341, 1.0), (342, 1.0), (343, 1.0)]\n",
      "[(122, 1.0), (344, 1.0), (345, 1.0)]\n",
      "[(346, 1.0), (347, 1.0), (348, 1.0), (349, 1.0)]\n",
      "[(113, 1.0), (350, 1.0), (351, 1.0), (352, 1.0)]\n",
      "[(24, 1.0), (353, 1.0), (354, 1.0), (355, 1.0)]\n",
      "[(64, 1.0), (181, 1.0), (356, 1.0), (357, 1.0)]\n",
      "[(24, 1.0), (358, 1.0), (359, 1.0), (360, 1.0), (361, 1.0)]\n",
      "[(31, 1.0), (362, 1.0), (363, 1.0), (364, 1.0)]\n",
      "[(365, 1.0), (366, 1.0), (367, 1.0)]\n",
      "[(127, 1.0), (368, 1.0), (369, 1.0), (370, 1.0), (371, 1.0)]\n",
      "[(372, 1.0), (373, 1.0), (374, 1.0), (375, 1.0)]\n",
      "[(376, 1.0), (377, 1.0), (378, 1.0), (379, 1.0)]\n",
      "[(366, 1.0), (380, 1.0), (381, 1.0), (382, 1.0)]\n",
      "[(49, 1.0), (303, 1.0), (383, 1.0), (384, 1.0)]\n",
      "[(385, 1.0), (386, 1.0), (387, 1.0)]\n",
      "[(2, 1.0), (3, 1.0), (388, 1.0), (389, 1.0), (390, 1.0), (391, 1.0), (392, 1.0)]\n",
      "[(55, 1.0), (393, 1.0), (394, 1.0)]\n",
      "[(99, 1.0), (395, 1.0), (396, 1.0), (397, 1.0)]\n",
      "[(398, 1.0), (399, 1.0), (400, 1.0), (401, 1.0)]\n",
      "[(24, 1.0), (402, 1.0), (403, 1.0), (404, 1.0), (405, 1.0)]\n",
      "[(406, 1.0), (407, 1.0), (408, 1.0)]\n",
      "[(142, 1.0), (279, 1.0), (409, 1.0), (410, 1.0)]\n",
      "[(125, 1.0), (411, 1.0), (412, 1.0), (413, 1.0), (414, 1.0)]\n",
      "[(34, 1.0), (303, 1.0), (415, 1.0), (416, 1.0), (417, 1.0), (418, 1.0)]\n",
      "[(69, 1.0), (305, 1.0), (419, 1.0), (420, 1.0)]\n",
      "[(421, 1.0), (422, 1.0), (423, 1.0)]\n",
      "[(101, 1.0), (424, 1.0), (425, 1.0), (426, 1.0), (427, 1.0)]\n",
      "[(428, 1.0), (429, 1.0), (430, 1.0), (431, 1.0)]\n",
      "[(373, 1.0), (432, 1.0), (433, 1.0), (434, 1.0)]\n",
      "[(45, 1.0), (435, 1.0), (436, 1.0), (437, 1.0), (438, 1.0)]\n",
      "[(105, 1.0), (379, 1.0), (439, 1.0), (440, 1.0)]\n",
      "[(39, 1.0), (214, 1.0), (441, 1.0), (442, 1.0), (443, 1.0), (444, 1.0)]\n",
      "[(97, 1.0), (445, 1.0), (446, 1.0), (447, 1.0)]\n",
      "[(64, 1.0), (366, 1.0), (448, 1.0), (449, 1.0), (450, 1.0)]\n",
      "[(122, 1.0), (133, 1.0), (451, 1.0), (452, 1.0), (453, 1.0), (454, 1.0)]\n",
      "[(247, 1.0), (455, 1.0), (456, 1.0), (457, 1.0)]\n",
      "[(196, 1.0), (458, 1.0), (459, 1.0), (460, 1.0)]\n",
      "[(67, 1.0), (196, 1.0), (227, 1.0), (461, 1.0), (462, 1.0)]\n",
      "[(463, 1.0), (464, 1.0), (465, 1.0)]\n",
      "[(366, 1.0), (466, 1.0), (467, 1.0), (468, 1.0)]\n",
      "[(81, 1.0), (469, 1.0)]\n",
      "[(325, 1.0), (470, 1.0), (471, 1.0)]\n",
      "[(72, 1.0), (472, 1.0), (473, 1.0), (474, 1.0)]\n",
      "[(232, 1.0), (475, 1.0), (476, 1.0), (477, 1.0), (478, 1.0)]\n",
      "[(479, 1.0), (480, 1.0), (481, 1.0), (482, 1.0)]\n",
      "[(49, 1.0), (81, 1.0), (483, 1.0), (484, 1.0), (485, 1.0), (486, 1.0)]\n",
      "[(487, 1.0), (488, 1.0), (489, 1.0)]\n",
      "[(490, 1.0), (491, 1.0), (492, 1.0), (493, 1.0), (494, 1.0), (495, 1.0), (496, 1.0), (497, 1.0)]\n",
      "[(108, 1.0), (498, 1.0), (499, 1.0), (500, 1.0), (501, 1.0)]\n",
      "[(3, 1.0), (157, 1.0), (502, 1.0), (503, 1.0), (504, 1.0), (505, 1.0)]\n",
      "[(506, 1.0), (507, 1.0), (508, 1.0)]\n",
      "[(297, 1.0), (509, 1.0), (510, 1.0), (511, 1.0), (512, 1.0), (513, 1.0)]\n",
      "[(514, 1.0), (515, 1.0), (516, 1.0), (517, 1.0)]\n",
      "[(518, 1.0), (519, 1.0), (520, 1.0), (521, 1.0), (522, 1.0)]\n",
      "[(523, 1.0), (524, 1.0), (525, 1.0), (526, 1.0)]\n",
      "[(59, 1.0), (527, 1.0), (528, 1.0), (529, 1.0)]\n",
      "[(367, 1.0), (530, 1.0), (531, 2.0)]\n",
      "[(253, 1.0), (532, 1.0), (533, 1.0), (534, 1.0), (535, 1.0), (536, 1.0), (537, 1.0)]\n",
      "[(538, 1.0), (539, 1.0)]\n",
      "[(45, 1.0), (196, 1.0), (540, 1.0), (541, 1.0), (542, 1.0), (543, 1.0)]\n",
      "[(367, 1.0), (544, 1.0), (545, 1.0)]\n",
      "[(546, 1.0), (547, 1.0)]\n",
      "[(18, 1.0), (548, 1.0), (549, 1.0)]\n",
      "[(102, 1.0), (366, 1.0), (550, 1.0), (551, 1.0)]\n",
      "[(101, 1.0), (171, 1.0), (520, 1.0), (552, 1.0), (553, 1.0), (554, 1.0), (555, 1.0)]\n",
      "[(45, 1.0), (367, 1.0), (511, 1.0), (556, 1.0), (557, 1.0), (558, 1.0)]\n",
      "[(45, 1.0), (559, 1.0), (560, 1.0), (561, 1.0), (562, 1.0)]\n",
      "[(101, 1.0), (402, 1.0), (563, 1.0), (564, 1.0)]\n",
      "[(196, 1.0), (565, 1.0), (566, 1.0)]\n",
      "[(567, 1.0), (568, 1.0), (569, 1.0), (570, 1.0), (571, 1.0)]\n",
      "[(516, 1.0), (572, 1.0), (573, 1.0)]\n",
      "[(4, 1.0), (574, 1.0), (575, 1.0)]\n",
      "[(45, 1.0), (157, 1.0), (576, 1.0), (577, 1.0), (578, 1.0)]\n",
      "[(579, 1.0), (580, 1.0), (581, 1.0), (582, 1.0), (583, 1.0)]\n",
      "[(584, 1.0), (585, 1.0), (586, 1.0), (587, 1.0)]\n",
      "[(588, 1.0), (589, 1.0), (590, 1.0)]\n",
      "[(591, 1.0), (592, 1.0), (593, 1.0)]\n",
      "[(101, 1.0), (227, 1.0), (594, 1.0), (595, 1.0), (596, 1.0)]\n",
      "[(485, 1.0), (597, 2.0), (598, 1.0)]\n",
      "[(599, 1.0), (600, 1.0), (601, 1.0)]\n",
      "[(602, 1.0), (603, 1.0), (604, 1.0)]\n",
      "[(45, 1.0), (60, 1.0), (605, 1.0), (606, 1.0), (607, 1.0)]\n",
      "[(608, 1.0), (609, 1.0)]\n",
      "[(28, 1.0), (610, 1.0), (611, 1.0)]\n",
      "[(151, 1.0), (367, 1.0), (612, 1.0), (613, 1.0), (614, 1.0)]\n",
      "[(276, 1.0), (427, 1.0), (615, 1.0), (616, 1.0)]\n",
      "[(157, 1.0), (617, 1.0), (618, 1.0), (619, 1.0)]\n",
      "[(2, 1.0), (74, 1.0), (101, 1.0), (620, 1.0), (621, 1.0)]\n",
      "[(45, 1.0), (96, 1.0), (362, 1.0), (622, 1.0), (623, 1.0), (624, 1.0), (625, 1.0), (626, 1.0)]\n",
      "[(55, 2.0), (625, 1.0), (627, 1.0), (628, 1.0), (629, 1.0), (630, 1.0)]\n",
      "[(631, 1.0), (632, 1.0), (633, 1.0)]\n",
      "[(520, 1.0), (634, 1.0), (635, 1.0)]\n",
      "[(636, 1.0), (637, 1.0), (638, 1.0), (639, 1.0)]\n",
      "[(279, 1.0), (640, 2.0), (641, 1.0)]\n",
      "[(45, 1.0), (177, 1.0), (185, 1.0), (642, 1.0), (643, 1.0)]\n",
      "[(196, 1.0), (644, 1.0), (645, 1.0), (646, 1.0)]\n",
      "[(541, 1.0), (647, 1.0), (648, 1.0)]\n",
      "[(47, 1.0), (303, 1.0), (649, 1.0), (650, 1.0), (651, 1.0)]\n",
      "[(127, 1.0), (600, 1.0), (652, 1.0), (653, 1.0), (654, 1.0)]\n",
      "[(655, 2.0), (656, 1.0), (657, 1.0)]\n",
      "[(103, 1.0), (658, 1.0)]\n",
      "[(45, 1.0), (400, 1.0), (517, 1.0), (659, 1.0), (660, 1.0), (661, 1.0), (662, 1.0)]\n",
      "[(49, 1.0), (362, 1.0), (663, 1.0), (664, 1.0), (665, 1.0)]\n",
      "[(666, 1.0), (667, 1.0), (668, 1.0)]\n",
      "[(58, 1.0), (303, 1.0), (366, 1.0), (669, 1.0)]\n",
      "[(303, 1.0), (420, 1.0), (670, 1.0), (671, 1.0), (672, 1.0)]\n",
      "[(453, 1.0), (621, 1.0), (673, 1.0), (674, 1.0), (675, 1.0)]\n",
      "[(670, 1.0), (676, 1.0), (677, 1.0), (678, 1.0), (679, 1.0)]\n",
      "[(680, 1.0), (681, 1.0), (682, 1.0)]\n",
      "[(45, 1.0), (683, 1.0), (684, 1.0), (685, 1.0), (686, 1.0)]\n",
      "[(45, 1.0), (687, 1.0), (688, 1.0), (689, 1.0), (690, 1.0)]\n",
      "[(691, 1.0), (692, 1.0), (693, 1.0), (694, 1.0)]\n",
      "[(631, 1.0), (695, 1.0)]\n",
      "[(696, 1.0), (697, 1.0), (698, 1.0)]\n",
      "[(45, 1.0), (215, 1.0), (699, 1.0), (700, 1.0), (701, 1.0), (702, 1.0)]\n",
      "[(279, 1.0), (303, 1.0), (703, 1.0), (704, 1.0)]\n",
      "[(705, 1.0), (706, 1.0)]\n",
      "[(196, 1.0), (707, 1.0)]\n",
      "[(708, 1.0), (709, 1.0), (710, 1.0)]\n",
      "[(711, 1.0), (712, 1.0), (713, 1.0), (714, 1.0)]\n",
      "[(715, 1.0), (716, 1.0), (717, 1.0)]\n",
      "[(45, 1.0), (718, 1.0), (719, 1.0), (720, 1.0)]\n",
      "[(125, 1.0), (702, 1.0), (721, 1.0), (722, 1.0)]\n",
      "[(127, 1.0), (723, 1.0), (724, 1.0), (725, 1.0)]\n",
      "[(45, 1.0), (726, 1.0), (727, 1.0), (728, 1.0)]\n",
      "[(45, 1.0), (157, 1.0), (205, 1.0), (216, 1.0), (362, 1.0), (729, 1.0)]\n",
      "[(16, 1.0), (730, 1.0), (731, 1.0)]\n",
      "[(45, 1.0), (732, 1.0), (733, 1.0), (734, 1.0), (735, 1.0)]\n",
      "[(45, 1.0), (94, 1.0), (108, 1.0), (736, 1.0), (737, 1.0), (738, 1.0), (739, 1.0)]\n",
      "[(45, 1.0), (644, 1.0), (706, 1.0), (740, 1.0), (741, 1.0), (742, 1.0)]\n",
      "[(45, 1.0), (743, 1.0), (744, 1.0), (745, 1.0), (746, 1.0), (747, 1.0), (748, 1.0)]\n",
      "[(744, 1.0), (749, 1.0), (750, 1.0)]\n",
      "[(45, 1.0), (106, 1.0), (751, 2.0), (752, 1.0), (753, 1.0), (754, 1.0), (755, 1.0)]\n",
      "[(691, 1.0), (756, 1.0), (757, 1.0), (758, 1.0), (759, 1.0), (760, 1.0)]\n",
      "[(45, 1.0), (519, 1.0), (699, 1.0), (761, 1.0), (762, 1.0), (763, 1.0), (764, 1.0), (765, 1.0)]\n",
      "[(45, 1.0), (106, 1.0), (766, 1.0), (767, 1.0), (768, 1.0), (769, 1.0), (770, 1.0), (771, 1.0), (772, 1.0), (773, 1.0)]\n",
      "[(45, 1.0), (744, 1.0), (749, 1.0), (774, 1.0), (775, 1.0), (776, 1.0), (777, 1.0), (778, 1.0), (779, 1.0)]\n",
      "[(780, 1.0), (781, 1.0), (782, 1.0), (783, 1.0), (784, 1.0)]\n",
      "[(45, 1.0), (94, 1.0), (253, 1.0), (600, 1.0), (785, 1.0), (786, 1.0)]\n",
      "[(157, 1.0), (787, 1.0), (788, 1.0), (789, 1.0), (790, 1.0)]\n",
      "[(305, 1.0), (791, 1.0), (792, 1.0), (793, 1.0)]\n",
      "[(378, 1.0), (794, 1.0), (795, 1.0), (796, 1.0)]\n",
      "[(520, 1.0), (797, 1.0), (798, 1.0)]\n",
      "[(420, 1.0), (799, 1.0), (800, 1.0), (801, 1.0)]\n",
      "[(45, 1.0), (367, 1.0), (802, 1.0), (803, 1.0), (804, 1.0), (805, 1.0)]\n",
      "[(56, 1.0), (58, 1.0), (806, 1.0), (807, 1.0)]\n",
      "[(49, 1.0), (177, 1.0), (808, 1.0), (809, 1.0)]\n",
      "[(81, 1.0), (350, 1.0), (810, 1.0), (811, 1.0)]\n",
      "[(21, 1.0), (296, 1.0), (812, 1.0), (813, 1.0), (814, 1.0), (815, 1.0), (816, 1.0)]\n",
      "[(303, 1.0), (817, 1.0), (818, 1.0), (819, 1.0)]\n",
      "[(820, 1.0), (821, 1.0), (822, 2.0)]\n",
      "[(95, 1.0), (253, 1.0), (823, 1.0), (824, 1.0)]\n",
      "[(81, 1.0), (101, 1.0), (825, 1.0), (826, 1.0), (827, 1.0)]\n",
      "[(177, 1.0), (828, 1.0), (829, 1.0), (830, 1.0)]\n",
      "[(208, 1.0), (209, 1.0), (367, 1.0), (831, 1.0)]\n",
      "[(185, 1.0), (232, 1.0), (832, 1.0), (833, 1.0)]\n",
      "[(520, 1.0), (834, 1.0), (835, 1.0)]\n",
      "[(28, 1.0), (45, 1.0), (94, 1.0), (836, 1.0)]\n",
      "[(108, 1.0), (570, 1.0), (837, 1.0), (838, 1.0), (839, 1.0)]\n",
      "[(138, 1.0), (840, 1.0), (841, 1.0), (842, 1.0), (843, 1.0)]\n",
      "[(53, 1.0), (108, 1.0), (844, 1.0), (845, 1.0), (846, 1.0)]\n",
      "[(81, 1.0), (127, 1.0), (847, 1.0), (848, 1.0)]\n",
      "[(305, 1.0), (849, 1.0), (850, 1.0), (851, 1.0)]\n",
      "[(101, 1.0), (293, 1.0), (852, 1.0), (853, 1.0), (854, 1.0)]\n",
      "[(21, 1.0), (37, 1.0), (855, 1.0), (856, 1.0)]\n",
      "[(185, 1.0), (857, 1.0), (858, 1.0), (859, 1.0)]\n",
      "[(219, 1.0), (299, 1.0), (860, 1.0), (861, 1.0)]\n",
      "[(177, 1.0), (862, 1.0), (863, 1.0), (864, 1.0)]\n",
      "[(362, 1.0), (832, 1.0), (865, 1.0), (866, 1.0), (867, 1.0)]\n",
      "[(22, 1.0), (515, 1.0), (609, 1.0), (868, 1.0), (869, 1.0), (870, 1.0)]\n",
      "[(45, 1.0), (94, 1.0), (102, 1.0), (871, 1.0), (872, 1.0)]\n",
      "[(59, 1.0), (293, 1.0), (431, 1.0), (873, 1.0), (874, 1.0)]\n",
      "[(303, 1.0), (875, 1.0), (876, 1.0), (877, 1.0)]\n",
      "[(253, 1.0), (508, 1.0), (878, 1.0), (879, 2.0)]\n",
      "[(56, 1.0), (58, 1.0), (880, 1.0), (881, 1.0)]\n",
      "[(28, 1.0), (45, 1.0), (882, 1.0), (883, 1.0), (884, 1.0)]\n",
      "[(64, 2.0), (411, 1.0), (830, 1.0), (885, 1.0), (886, 1.0), (887, 1.0), (888, 1.0)]\n",
      "[(64, 1.0), (120, 1.0), (889, 1.0), (890, 1.0), (891, 1.0)]\n",
      "[(102, 1.0), (142, 1.0), (892, 1.0), (893, 1.0), (894, 1.0)]\n",
      "[(45, 1.0), (517, 1.0), (895, 1.0), (896, 1.0), (897, 1.0), (898, 1.0)]\n",
      "[(59, 1.0), (899, 1.0), (900, 1.0), (901, 1.0)]\n",
      "[(100, 1.0), (283, 1.0), (902, 1.0), (903, 1.0), (904, 1.0)]\n",
      "[(905, 1.0), (906, 1.0), (907, 1.0), (908, 1.0), (909, 1.0)]\n",
      "[(303, 1.0), (754, 1.0), (910, 1.0)]\n",
      "[(64, 1.0), (362, 1.0), (911, 1.0), (912, 1.0), (913, 1.0), (914, 1.0)]\n",
      "[(208, 1.0), (831, 1.0), (915, 1.0), (916, 1.0)]\n",
      "[(3, 1.0), (632, 1.0), (917, 1.0), (918, 1.0)]\n",
      "[(177, 1.0), (865, 1.0), (919, 1.0), (920, 1.0)]\n",
      "[(45, 1.0), (303, 1.0), (895, 1.0), (921, 1.0), (922, 1.0)]\n",
      "[(923, 1.0), (924, 1.0), (925, 1.0), (926, 1.0), (927, 1.0)]\n",
      "[(45, 1.0), (102, 1.0), (189, 1.0), (431, 1.0), (928, 1.0), (929, 1.0), (930, 1.0), (931, 1.0)]\n",
      "[(932, 1.0), (933, 1.0), (934, 1.0)]\n",
      "[(45, 1.0), (127, 1.0), (848, 1.0), (935, 1.0), (936, 1.0)]\n",
      "[(515, 1.0), (937, 1.0), (938, 1.0)]\n",
      "[(517, 1.0), (894, 1.0), (939, 1.0), (940, 1.0), (941, 1.0)]\n",
      "[(45, 1.0), (810, 1.0), (942, 1.0), (943, 1.0)]\n",
      "[(101, 1.0), (362, 1.0), (378, 1.0), (941, 1.0), (944, 1.0), (945, 1.0), (946, 1.0)]\n",
      "[(947, 1.0), (948, 1.0), (949, 1.0)]\n",
      "[(396, 1.0), (950, 1.0), (951, 1.0), (952, 1.0)]\n",
      "[(47, 1.0), (953, 1.0), (954, 1.0), (955, 1.0)]\n",
      "[(55, 1.0), (724, 1.0), (956, 1.0)]\n",
      "[(28, 1.0), (841, 1.0), (957, 1.0)]\n",
      "[(303, 1.0), (379, 1.0), (958, 1.0), (959, 1.0), (960, 1.0), (961, 1.0)]\n",
      "[(31, 1.0), (894, 1.0), (962, 1.0), (963, 1.0), (964, 1.0)]\n",
      "[(402, 1.0), (765, 1.0), (965, 1.0), (966, 1.0), (967, 1.0)]\n",
      "[(21, 1.0), (253, 1.0), (303, 1.0), (968, 1.0)]\n",
      "[(171, 1.0), (531, 1.0), (894, 1.0)]\n",
      "[(969, 1.0), (970, 1.0), (971, 1.0)]\n",
      "[(340, 1.0), (972, 1.0), (973, 1.0), (974, 1.0)]\n",
      "[(45, 1.0), (975, 1.0), (976, 1.0), (977, 1.0), (978, 1.0), (979, 1.0), (980, 1.0), (981, 1.0), (982, 1.0)]\n",
      "[(114, 1.0), (983, 1.0), (984, 1.0)]\n",
      "[(985, 1.0), (986, 1.0), (987, 1.0), (988, 1.0)]\n",
      "[(84, 1.0), (989, 1.0), (990, 1.0)]\n",
      "[(253, 1.0), (854, 1.0), (991, 1.0), (992, 1.0), (993, 1.0), (994, 1.0)]\n",
      "[(45, 1.0), (169, 1.0), (995, 1.0), (996, 1.0), (997, 1.0), (998, 1.0)]\n",
      "[(293, 1.0), (303, 1.0), (999, 1.0), (1000, 1.0)]\n",
      "[(45, 1.0), (94, 1.0), (1001, 1.0), (1002, 1.0), (1003, 1.0), (1004, 1.0)]\n",
      "[(127, 1.0), (907, 1.0), (1005, 1.0), (1006, 1.0), (1007, 1.0)]\n",
      "[(250, 1.0), (521, 1.0), (579, 1.0), (994, 1.0)]\n",
      "[(45, 1.0), (362, 1.0), (415, 1.0), (1008, 1.0), (1009, 1.0)]\n",
      "[(617, 1.0), (858, 1.0), (1010, 1.0), (1011, 1.0)]\n",
      "[(267, 1.0), (1012, 1.0), (1013, 1.0)]\n",
      "[(303, 1.0), (894, 1.0), (1014, 1.0), (1015, 1.0)]\n",
      "[(3, 1.0), (312, 1.0), (1016, 1.0), (1017, 1.0)]\n",
      "[(45, 1.0), (586, 1.0), (735, 1.0), (1018, 1.0), (1019, 1.0), (1020, 1.0), (1021, 1.0)]\n",
      "[(45, 1.0), (94, 1.0), (1022, 1.0), (1023, 1.0), (1024, 1.0), (1025, 1.0)]\n",
      "[(1026, 1.0), (1027, 1.0), (1028, 1.0), (1029, 1.0)]\n",
      "[(1030, 1.0), (1031, 1.0), (1032, 1.0)]\n",
      "[(45, 1.0), (554, 1.0), (1033, 1.0), (1034, 1.0), (1035, 1.0), (1036, 1.0)]\n",
      "[(517, 1.0), (920, 1.0), (1037, 1.0), (1038, 1.0)]\n",
      "[(108, 1.0), (831, 1.0), (1039, 1.0), (1040, 1.0)]\n",
      "[(402, 1.0), (405, 1.0), (765, 1.0), (1041, 2.0)]\n",
      "[(300, 1.0), (1042, 1.0), (1043, 1.0), (1044, 1.0)]\n",
      "[(3, 1.0), (103, 1.0), (1045, 1.0), (1046, 1.0)]\n",
      "[(102, 1.0), (106, 1.0), (1047, 1.0), (1048, 1.0)]\n",
      "[(142, 1.0), (571, 1.0), (724, 1.0), (1049, 1.0)]\n",
      "[(211, 1.0), (306, 1.0), (1050, 1.0), (1051, 1.0), (1052, 1.0), (1053, 1.0)]\n",
      "[(846, 1.0), (1054, 1.0), (1055, 1.0), (1056, 1.0), (1057, 1.0)]\n",
      "[(59, 1.0), (1058, 1.0), (1059, 1.0)]\n",
      "[(64, 1.0), (1060, 1.0), (1061, 1.0), (1062, 1.0), (1063, 1.0)]\n",
      "[(47, 1.0), (312, 1.0), (1064, 1.0), (1065, 1.0)]\n",
      "[(940, 1.0), (1066, 1.0), (1067, 1.0), (1068, 1.0)]\n",
      "[(45, 1.0), (94, 1.0), (114, 1.0), (243, 1.0), (1069, 1.0), (1070, 1.0)]\n",
      "[(3, 1.0), (36, 1.0), (126, 1.0), (1071, 1.0)]\n",
      "[(1068, 1.0), (1072, 1.0), (1073, 1.0), (1074, 1.0), (1075, 1.0), (1076, 1.0), (1077, 1.0)]\n"
     ]
    }
   ],
   "source": [
    "#Cargo mi corpus\n",
    "corpus = corpora.MmCorpus('corpus.mm')\n",
    "print(corpus) #No lo carga en memoria\n",
    "#Para leer la representacion de bolda de palabras resultante de cada documento en el corpus\n",
    "for doc in corpus:\n",
    "    print(doc)"
   ]
  },
  {
   "cell_type": "markdown",
   "metadata": {},
   "source": [
    "## Cargar de la memoria el Corpus y el Diccionario"
   ]
  },
  {
   "cell_type": "code",
   "execution_count": 7,
   "metadata": {},
   "outputs": [],
   "source": [
    "dictionary = corpora.Dictionary.load('clase3.dict')\n",
    "corpus = corpora.MmCorpus('corpus.mm')"
   ]
  },
  {
   "cell_type": "markdown",
   "metadata": {},
   "source": [
    "## TF-IDF"
   ]
  },
  {
   "cell_type": "code",
   "execution_count": 8,
   "metadata": {},
   "outputs": [],
   "source": [
    "tfidf = models.TfidfModel(corpus) "
   ]
  },
  {
   "cell_type": "markdown",
   "metadata": {},
   "source": [
    "## Construir la Matriz"
   ]
  },
  {
   "cell_type": "code",
   "execution_count": 9,
   "metadata": {},
   "outputs": [],
   "source": [
    "index = similarities.MatrixSimilarity(tfidf[corpus])\n",
    "index.save('clase3tfidf.index')"
   ]
  },
  {
   "cell_type": "code",
   "execution_count": 10,
   "metadata": {},
   "outputs": [],
   "source": [
    "index = similarities.MatrixSimilarity.load('clase3tfidf.index')"
   ]
  },
  {
   "cell_type": "markdown",
   "metadata": {},
   "source": [
    "## Construir el query"
   ]
  },
  {
   "cell_type": "code",
   "execution_count": 31,
   "metadata": {},
   "outputs": [
    {
     "data": {
      "text/plain": [
       "[[(738, 1)],\n",
       " [(103, 1), (548, 1), (724, 1)],\n",
       " [],\n",
       " [(478, 1), (764, 1)],\n",
       " [(538, 1)],\n",
       " [(114, 1)],\n",
       " [(379, 1), (542, 1)],\n",
       " [(21, 1), (855, 1), (894, 1)],\n",
       " [(211, 1), (631, 1)],\n",
       " [(132, 1)],\n",
       " [],\n",
       " [(929, 1)],\n",
       " [(724, 1), (831, 1)],\n",
       " [(211, 1), (538, 1)],\n",
       " [],\n",
       " [(649, 1)],\n",
       " [(541, 1), (616, 1)],\n",
       " [(215, 1), (420, 1), (670, 1), (691, 1), (702, 1)],\n",
       " [(3, 1)],\n",
       " [(247, 1), (1030, 1)],\n",
       " [],\n",
       " [(47, 1), (929, 1)],\n",
       " [(724, 1), (752, 1), (753, 1)],\n",
       " [(691, 1), (865, 1)],\n",
       " [],\n",
       " [(367, 1), (558, 1), (991, 1)],\n",
       " [(125, 1), (504, 1)],\n",
       " [(34, 1), (157, 1), (503, 1), (504, 1)],\n",
       " [(157, 1), (158, 1)],\n",
       " [(378, 1), (617, 1)],\n",
       " [(929, 1)],\n",
       " [],\n",
       " [(102, 1), (720, 1)],\n",
       " [],\n",
       " [(435, 1)]]"
      ]
     },
     "execution_count": 31,
     "metadata": {},
     "output_type": "execute_result"
    }
   ],
   "source": [
    "qbow_List = []\n",
    "for index in range(1,36):\n",
    "    number = \"\"\n",
    "    if math.floor(index/10) == 0:\n",
    "        number = \"0\"+str(index)\n",
    "    else:\n",
    "        if math.floor(index/100) == 0:\n",
    "            number = str(index)\n",
    "    root_query = ET.parse('queries-raw-texts/wes2015.q'+number+'.naf').getroot()\n",
    "    query = root_query.find('raw').text\n",
    "    # Query a Bag of Words\n",
    "    query_doc_bow = dictionary.doc2bow(process(query))\n",
    "    qbow_List.append(query_doc_bow)\n",
    "qbow_List"
   ]
  },
  {
   "cell_type": "markdown",
   "metadata": {},
   "source": [
    "## Encontrar Similitudes"
   ]
  },
  {
   "cell_type": "code",
   "execution_count": 80,
   "metadata": {},
   "outputs": [
    {
     "name": "stdout",
     "output_type": "stream",
     "text": [
      "[(738, 1)]\n"
     ]
    },
    {
     "ename": "TypeError",
     "evalue": "'int' object is not subscriptable",
     "output_type": "error",
     "traceback": [
      "\u001b[1;31m---------------------------------------------------------------------------\u001b[0m",
      "\u001b[1;31mTypeError\u001b[0m                                 Traceback (most recent call last)",
      "\u001b[1;32m<ipython-input-80-7cb33093e040>\u001b[0m in \u001b[0;36m<module>\u001b[1;34m\u001b[0m\n\u001b[0;32m      2\u001b[0m \u001b[1;32mfor\u001b[0m \u001b[0mindice\u001b[0m\u001b[1;33m,\u001b[0m \u001b[0mquery\u001b[0m \u001b[1;32min\u001b[0m \u001b[0menumerate\u001b[0m\u001b[1;33m(\u001b[0m\u001b[0mqbow_List\u001b[0m\u001b[1;33m)\u001b[0m\u001b[1;33m:\u001b[0m\u001b[1;33m\u001b[0m\u001b[1;33m\u001b[0m\u001b[0m\n\u001b[0;32m      3\u001b[0m     \u001b[0mprint\u001b[0m\u001b[1;33m(\u001b[0m\u001b[0mquery\u001b[0m\u001b[1;33m)\u001b[0m\u001b[1;33m\u001b[0m\u001b[1;33m\u001b[0m\u001b[0m\n\u001b[1;32m----> 4\u001b[1;33m     \u001b[0msims\u001b[0m \u001b[1;33m=\u001b[0m \u001b[0mindex\u001b[0m\u001b[1;33m[\u001b[0m\u001b[0mtfidf\u001b[0m\u001b[1;33m[\u001b[0m\u001b[1;33m[\u001b[0m\u001b[0mquery\u001b[0m\u001b[1;33m]\u001b[0m\u001b[1;33m]\u001b[0m\u001b[1;33m]\u001b[0m\u001b[1;33m\u001b[0m\u001b[1;33m\u001b[0m\u001b[0m\n\u001b[0m",
      "\u001b[1;31mTypeError\u001b[0m: 'int' object is not subscriptable"
     ]
    }
   ],
   "source": [
    "sims_List = []\n",
    "for indice, query in enumerate(qbow_List):\n",
    "    print(query)\n",
    "    sims = index[tfidf[query]]"
   ]
  },
  {
   "cell_type": "code",
   "execution_count": null,
   "metadata": {},
   "outputs": [],
   "source": [
    "for i, p in enumerate(sims):\n",
    "    if p != 0:\n",
    "        print (str(i+1), p)"
   ]
  }
 ],
 "metadata": {
  "kernelspec": {
   "display_name": "Python 3",
   "language": "python",
   "name": "python3"
  },
  "language_info": {
   "codemirror_mode": {
    "name": "ipython",
    "version": 3
   },
   "file_extension": ".py",
   "mimetype": "text/x-python",
   "name": "python",
   "nbconvert_exporter": "python",
   "pygments_lexer": "ipython3",
   "version": "3.7.3"
  }
 },
 "nbformat": 4,
 "nbformat_minor": 2
}
